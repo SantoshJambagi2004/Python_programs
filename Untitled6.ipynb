{
  "nbformat": 4,
  "nbformat_minor": 0,
  "metadata": {
    "colab": {
      "provenance": [],
      "authorship_tag": "ABX9TyP6guK0mcB9nFZQpctsmA8e",
      "include_colab_link": true
    },
    "kernelspec": {
      "name": "python3",
      "display_name": "Python 3"
    },
    "language_info": {
      "name": "python"
    }
  },
  "cells": [
    {
      "cell_type": "markdown",
      "metadata": {
        "id": "view-in-github",
        "colab_type": "text"
      },
      "source": [
        "<a href=\"https://colab.research.google.com/github/SantoshJambagi2004/Python_programs/blob/main/Untitled6.ipynb\" target=\"_parent\"><img src=\"https://colab.research.google.com/assets/colab-badge.svg\" alt=\"Open In Colab\"/></a>"
      ]
    },
    {
      "cell_type": "code",
      "source": [
        "pip install mlrose-hiive joblib"
      ],
      "metadata": {
        "colab": {
          "base_uri": "https://localhost:8080/"
        },
        "id": "2Y-FLjUGhna2",
        "outputId": "8243e3d4-3380-4dbf-dc37-96a8d1d1259c"
      },
      "execution_count": 5,
      "outputs": [
        {
          "output_type": "stream",
          "name": "stdout",
          "text": [
            "Requirement already satisfied: mlrose-hiive in /usr/local/lib/python3.10/dist-packages (2.2.4)\n",
            "Requirement already satisfied: joblib in /usr/local/lib/python3.10/dist-packages (1.4.2)\n",
            "Requirement already satisfied: numpy in /usr/local/lib/python3.10/dist-packages (from mlrose-hiive) (1.26.4)\n",
            "Requirement already satisfied: scipy in /usr/local/lib/python3.10/dist-packages (from mlrose-hiive) (1.13.1)\n",
            "Requirement already satisfied: scikit-learn in /usr/local/lib/python3.10/dist-packages (from mlrose-hiive) (1.5.2)\n",
            "Requirement already satisfied: pandas in /usr/local/lib/python3.10/dist-packages (from mlrose-hiive) (2.2.2)\n",
            "Requirement already satisfied: networkx in /usr/local/lib/python3.10/dist-packages (from mlrose-hiive) (3.4.2)\n",
            "Requirement already satisfied: python-dateutil>=2.8.2 in /usr/local/lib/python3.10/dist-packages (from pandas->mlrose-hiive) (2.8.2)\n",
            "Requirement already satisfied: pytz>=2020.1 in /usr/local/lib/python3.10/dist-packages (from pandas->mlrose-hiive) (2024.2)\n",
            "Requirement already satisfied: tzdata>=2022.7 in /usr/local/lib/python3.10/dist-packages (from pandas->mlrose-hiive) (2024.2)\n",
            "Requirement already satisfied: threadpoolctl>=3.1.0 in /usr/local/lib/python3.10/dist-packages (from scikit-learn->mlrose-hiive) (3.5.0)\n",
            "Requirement already satisfied: six>=1.5 in /usr/local/lib/python3.10/dist-packages (from python-dateutil>=2.8.2->pandas->mlrose-hiive) (1.16.0)\n"
          ]
        }
      ]
    },
    {
      "cell_type": "code",
      "source": [
        "pip install --upgrade joblib"
      ],
      "metadata": {
        "colab": {
          "base_uri": "https://localhost:8080/"
        },
        "id": "KxIKKb3Jhwj1",
        "outputId": "aef68d91-df69-4148-dbf7-3bce0bd24bfa"
      },
      "execution_count": 6,
      "outputs": [
        {
          "output_type": "stream",
          "name": "stdout",
          "text": [
            "Requirement already satisfied: joblib in /usr/local/lib/python3.10/dist-packages (1.4.2)\n"
          ]
        }
      ]
    },
    {
      "cell_type": "code",
      "source": [
        "pip install joblib==1.1.0"
      ],
      "metadata": {
        "colab": {
          "base_uri": "https://localhost:8080/",
          "height": 321
        },
        "id": "9ZnwaQQaiB31",
        "outputId": "f4360cac-f72a-49b8-f8bb-c40229958c99"
      },
      "execution_count": 7,
      "outputs": [
        {
          "output_type": "stream",
          "name": "stdout",
          "text": [
            "Collecting joblib==1.1.0\n",
            "  Using cached joblib-1.1.0-py2.py3-none-any.whl.metadata (5.2 kB)\n",
            "Using cached joblib-1.1.0-py2.py3-none-any.whl (306 kB)\n",
            "Installing collected packages: joblib\n",
            "  Attempting uninstall: joblib\n",
            "    Found existing installation: joblib 1.4.2\n",
            "    Uninstalling joblib-1.4.2:\n",
            "      Successfully uninstalled joblib-1.4.2\n",
            "\u001b[31mERROR: pip's dependency resolver does not currently take into account all the packages that are installed. This behaviour is the source of the following dependency conflicts.\n",
            "imbalanced-learn 0.12.4 requires joblib>=1.1.1, but you have joblib 1.1.0 which is incompatible.\n",
            "scikit-learn 1.5.2 requires joblib>=1.2.0, but you have joblib 1.1.0 which is incompatible.\u001b[0m\u001b[31m\n",
            "\u001b[0mSuccessfully installed joblib-1.1.0\n"
          ]
        },
        {
          "output_type": "display_data",
          "data": {
            "application/vnd.colab-display-data+json": {
              "pip_warning": {
                "packages": [
                  "joblib"
                ]
              },
              "id": "74f240f166564ad997b21b576ffcf598"
            }
          },
          "metadata": {}
        }
      ]
    },
    {
      "cell_type": "code",
      "source": [
        "import mlrose_hiive as mlrose\n",
        "import numpy as np\n",
        "\n",
        "def queens_max(position):\n",
        "    no_attack_on_j = 0\n",
        "    queen_not_attacking = 0\n",
        "    for i in range(len(position) - 1):\n",
        "        no_attack_on_j = 0\n",
        "        for j in range(i + 1, len(position)):\n",
        "            if (position[j] != position[i]) and (position[j] != position[i] + (j - i)) and (position[j] != position[i] - (j - i)):\n",
        "                no_attack_on_j += 1\n",
        "        if (no_attack_on_j == len(position) - 1 - i):\n",
        "            queen_not_attacking += 1\n",
        "    if (queen_not_attacking == 7):\n",
        "        queen_not_attacking += 1\n",
        "    return queen_not_attacking\n",
        "\n",
        "objective = mlrose.CustomFitness(queens_max)\n",
        "\n",
        "problem = mlrose.DiscreteOpt(length=8, fitness_fn=objective, maximize=True, max_val=8)\n",
        "T = mlrose.ExpDecay()\n",
        "\n",
        "initial_position = np.array([4, 6, 1, 5, 2, 0, 3, 7])\n",
        "\n",
        "best_position, best_objective,fitness_curve= mlrose.simulated_annealing(problem=problem, schedule=T, max_attempts=500,init_state=initial_position)\n",
        "\n",
        "print('The best position found is:', best_position)\n",
        "print('The number of queens that are not attacking each other is:', best_objective)"
      ],
      "metadata": {
        "colab": {
          "base_uri": "https://localhost:8080/"
        },
        "id": "dDg2Z_Kwh6NF",
        "outputId": "c47690fe-c3e3-458d-f7c9-0582c77612fd"
      },
      "execution_count": 1,
      "outputs": [
        {
          "output_type": "stream",
          "name": "stdout",
          "text": [
            "The best position found is: [4 1 7 0 3 6 2 5]\n",
            "The number of queens that are not attacking each other is: 8.0\n"
          ]
        }
      ]
    },
    {
      "cell_type": "code",
      "source": [
        "import mlrose_hiive as mlrose\n",
        "import numpy as np\n",
        "\n",
        "def hanoi_fitness(state):\n",
        "    correct_disks = 0\n",
        "    destination_peg = 2\n",
        "    for i in range(len(state)):\n",
        "        if state[i] == destination_peg:\n",
        "            correct_disks += 1\n",
        "        else:\n",
        "            break\n",
        "    return correct_disks\n",
        "\n",
        "fitness_fn = mlrose.CustomFitness(hanoi_fitness)\n",
        "problem = mlrose.DiscreteOpt(length=3, fitness_fn=fitness_fn, maximize=True, max_val=3)\n",
        "schedule = mlrose.ExpDecay()\n",
        "\n",
        "initial_state = np.array([0, 0, 0])\n",
        "best_state, best_fitness, fitness_curve = mlrose.simulated_annealing(problem, schedule=schedule, max_attempts=1000, init_state=initial_state)\n",
        "\n",
        "print(\"Best state (final configuration):\", best_state)\n",
        "print(\"Number of correct disks on destination peg:\", best_fitness)\n",
        "\n",
        "def print_hanoi_solution(state):\n",
        "    print(\"\\nTower of Hanoi Configuration:\")\n",
        "    pegs = {0: [], 1: [], 2: []}\n",
        "    for disk, peg in enumerate(state):\n",
        "        pegs[peg].append(disk)\n",
        "    for peg in pegs:\n",
        "        print(f\"Peg {peg}: {pegs[peg]}\")\n",
        "\n",
        "print_hanoi_solution(best_state)"
      ],
      "metadata": {
        "colab": {
          "base_uri": "https://localhost:8080/"
        },
        "id": "QPB8f8-Bq4DE",
        "outputId": "2bf7d992-88c7-44c5-94bf-ba7385d401a1"
      },
      "execution_count": 2,
      "outputs": [
        {
          "output_type": "stream",
          "name": "stdout",
          "text": [
            "Best state (final configuration): [2 2 2]\n",
            "Number of correct disks on destination peg: 3.0\n",
            "\n",
            "Tower of Hanoi Configuration:\n",
            "Peg 0: []\n",
            "Peg 1: []\n",
            "Peg 2: [0, 1, 2]\n"
          ]
        }
      ]
    }
  ]
}